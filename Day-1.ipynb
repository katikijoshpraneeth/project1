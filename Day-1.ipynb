{
 "cells": [
  {
   "cell_type": "code",
   "execution_count": 18,
   "id": "e6996f35-7057-46f0-88d7-87887b35cd79",
   "metadata": {},
   "outputs": [],
   "source": [
    "import pandas as pd\n",
    "import seaborn as sns"
   ]
  },
  {
   "cell_type": "code",
   "execution_count": 2,
   "id": "a19a8e22-e403-4ce4-8ee3-efb185bdb4e3",
   "metadata": {},
   "outputs": [],
   "source": [
    "df=pd.read_csv('mental_health_workplace_survey.csv')"
   ]
  },
  {
   "cell_type": "code",
   "execution_count": 3,
   "id": "7fab31ba-74f5-42cc-9090-aa0f7c7d6e9f",
   "metadata": {},
   "outputs": [
    {
     "data": {
      "text/html": [
       "<div>\n",
       "<style scoped>\n",
       "    .dataframe tbody tr th:only-of-type {\n",
       "        vertical-align: middle;\n",
       "    }\n",
       "\n",
       "    .dataframe tbody tr th {\n",
       "        vertical-align: top;\n",
       "    }\n",
       "\n",
       "    .dataframe thead th {\n",
       "        text-align: right;\n",
       "    }\n",
       "</style>\n",
       "<table border=\"1\" class=\"dataframe\">\n",
       "  <thead>\n",
       "    <tr style=\"text-align: right;\">\n",
       "      <th></th>\n",
       "      <th>EmployeeID</th>\n",
       "      <th>Age</th>\n",
       "      <th>Gender</th>\n",
       "      <th>Country</th>\n",
       "      <th>JobRole</th>\n",
       "      <th>Department</th>\n",
       "      <th>YearsAtCompany</th>\n",
       "      <th>WorkHoursPerWeek</th>\n",
       "      <th>RemoteWork</th>\n",
       "      <th>BurnoutLevel</th>\n",
       "      <th>...</th>\n",
       "      <th>CommuteTime</th>\n",
       "      <th>HasMentalHealthSupport</th>\n",
       "      <th>ManagerSupportScore</th>\n",
       "      <th>HasTherapyAccess</th>\n",
       "      <th>MentalHealthDaysOff</th>\n",
       "      <th>SalaryRange</th>\n",
       "      <th>WorkLifeBalanceScore</th>\n",
       "      <th>TeamSize</th>\n",
       "      <th>CareerGrowthScore</th>\n",
       "      <th>BurnoutRisk</th>\n",
       "    </tr>\n",
       "  </thead>\n",
       "  <tbody>\n",
       "    <tr>\n",
       "      <th>0</th>\n",
       "      <td>1001</td>\n",
       "      <td>50</td>\n",
       "      <td>Male</td>\n",
       "      <td>UK</td>\n",
       "      <td>Sales Associate</td>\n",
       "      <td>HR</td>\n",
       "      <td>14</td>\n",
       "      <td>47</td>\n",
       "      <td>No</td>\n",
       "      <td>3.37</td>\n",
       "      <td>...</td>\n",
       "      <td>117</td>\n",
       "      <td>No</td>\n",
       "      <td>3.15</td>\n",
       "      <td>Yes</td>\n",
       "      <td>8</td>\n",
       "      <td>40K-60K</td>\n",
       "      <td>8.82</td>\n",
       "      <td>6</td>\n",
       "      <td>9.20</td>\n",
       "      <td>0</td>\n",
       "    </tr>\n",
       "    <tr>\n",
       "      <th>1</th>\n",
       "      <td>1002</td>\n",
       "      <td>36</td>\n",
       "      <td>Male</td>\n",
       "      <td>Germany</td>\n",
       "      <td>Software Engineer</td>\n",
       "      <td>IT</td>\n",
       "      <td>1</td>\n",
       "      <td>59</td>\n",
       "      <td>Hybrid</td>\n",
       "      <td>7.39</td>\n",
       "      <td>...</td>\n",
       "      <td>8</td>\n",
       "      <td>Yes</td>\n",
       "      <td>4.40</td>\n",
       "      <td>Yes</td>\n",
       "      <td>4</td>\n",
       "      <td>80K-100K</td>\n",
       "      <td>2.80</td>\n",
       "      <td>45</td>\n",
       "      <td>8.46</td>\n",
       "      <td>1</td>\n",
       "    </tr>\n",
       "    <tr>\n",
       "      <th>2</th>\n",
       "      <td>1003</td>\n",
       "      <td>29</td>\n",
       "      <td>Non-binary</td>\n",
       "      <td>India</td>\n",
       "      <td>IT Admin</td>\n",
       "      <td>IT</td>\n",
       "      <td>13</td>\n",
       "      <td>59</td>\n",
       "      <td>Hybrid</td>\n",
       "      <td>7.10</td>\n",
       "      <td>...</td>\n",
       "      <td>75</td>\n",
       "      <td>No</td>\n",
       "      <td>3.63</td>\n",
       "      <td>No</td>\n",
       "      <td>6</td>\n",
       "      <td>80K-100K</td>\n",
       "      <td>7.28</td>\n",
       "      <td>7</td>\n",
       "      <td>7.96</td>\n",
       "      <td>1</td>\n",
       "    </tr>\n",
       "    <tr>\n",
       "      <th>3</th>\n",
       "      <td>1004</td>\n",
       "      <td>42</td>\n",
       "      <td>Male</td>\n",
       "      <td>Australia</td>\n",
       "      <td>HR Specialist</td>\n",
       "      <td>IT</td>\n",
       "      <td>15</td>\n",
       "      <td>31</td>\n",
       "      <td>Yes</td>\n",
       "      <td>4.18</td>\n",
       "      <td>...</td>\n",
       "      <td>43</td>\n",
       "      <td>Yes</td>\n",
       "      <td>4.50</td>\n",
       "      <td>Yes</td>\n",
       "      <td>9</td>\n",
       "      <td>60K-80K</td>\n",
       "      <td>1.31</td>\n",
       "      <td>11</td>\n",
       "      <td>8.90</td>\n",
       "      <td>0</td>\n",
       "    </tr>\n",
       "    <tr>\n",
       "      <th>4</th>\n",
       "      <td>1005</td>\n",
       "      <td>40</td>\n",
       "      <td>Male</td>\n",
       "      <td>Brazil</td>\n",
       "      <td>Customer Support</td>\n",
       "      <td>Support</td>\n",
       "      <td>6</td>\n",
       "      <td>34</td>\n",
       "      <td>Yes</td>\n",
       "      <td>8.28</td>\n",
       "      <td>...</td>\n",
       "      <td>58</td>\n",
       "      <td>Yes</td>\n",
       "      <td>5.51</td>\n",
       "      <td>Yes</td>\n",
       "      <td>6</td>\n",
       "      <td>&lt;40K</td>\n",
       "      <td>1.17</td>\n",
       "      <td>18</td>\n",
       "      <td>8.88</td>\n",
       "      <td>1</td>\n",
       "    </tr>\n",
       "  </tbody>\n",
       "</table>\n",
       "<p>5 rows × 25 columns</p>\n",
       "</div>"
      ],
      "text/plain": [
       "   EmployeeID  Age      Gender    Country            JobRole Department  \\\n",
       "0        1001   50        Male         UK    Sales Associate         HR   \n",
       "1        1002   36        Male    Germany  Software Engineer         IT   \n",
       "2        1003   29  Non-binary      India           IT Admin         IT   \n",
       "3        1004   42        Male  Australia      HR Specialist         IT   \n",
       "4        1005   40        Male     Brazil   Customer Support    Support   \n",
       "\n",
       "   YearsAtCompany  WorkHoursPerWeek RemoteWork  BurnoutLevel  ...  \\\n",
       "0              14                47         No          3.37  ...   \n",
       "1               1                59     Hybrid          7.39  ...   \n",
       "2              13                59     Hybrid          7.10  ...   \n",
       "3              15                31        Yes          4.18  ...   \n",
       "4               6                34        Yes          8.28  ...   \n",
       "\n",
       "   CommuteTime  HasMentalHealthSupport  ManagerSupportScore  HasTherapyAccess  \\\n",
       "0          117                      No                 3.15               Yes   \n",
       "1            8                     Yes                 4.40               Yes   \n",
       "2           75                      No                 3.63                No   \n",
       "3           43                     Yes                 4.50               Yes   \n",
       "4           58                     Yes                 5.51               Yes   \n",
       "\n",
       "   MentalHealthDaysOff  SalaryRange WorkLifeBalanceScore  TeamSize  \\\n",
       "0                    8      40K-60K                 8.82         6   \n",
       "1                    4     80K-100K                 2.80        45   \n",
       "2                    6     80K-100K                 7.28         7   \n",
       "3                    9      60K-80K                 1.31        11   \n",
       "4                    6         <40K                 1.17        18   \n",
       "\n",
       "  CareerGrowthScore  BurnoutRisk  \n",
       "0              9.20            0  \n",
       "1              8.46            1  \n",
       "2              7.96            1  \n",
       "3              8.90            0  \n",
       "4              8.88            1  \n",
       "\n",
       "[5 rows x 25 columns]"
      ]
     },
     "execution_count": 3,
     "metadata": {},
     "output_type": "execute_result"
    }
   ],
   "source": [
    "df.head() "
   ]
  },
  {
   "cell_type": "code",
   "execution_count": 4,
   "id": "e572420e-fc38-42e8-a3da-924c85a1025d",
   "metadata": {},
   "outputs": [
    {
     "data": {
      "text/html": [
       "<div>\n",
       "<style scoped>\n",
       "    .dataframe tbody tr th:only-of-type {\n",
       "        vertical-align: middle;\n",
       "    }\n",
       "\n",
       "    .dataframe tbody tr th {\n",
       "        vertical-align: top;\n",
       "    }\n",
       "\n",
       "    .dataframe thead th {\n",
       "        text-align: right;\n",
       "    }\n",
       "</style>\n",
       "<table border=\"1\" class=\"dataframe\">\n",
       "  <thead>\n",
       "    <tr style=\"text-align: right;\">\n",
       "      <th></th>\n",
       "      <th>EmployeeID</th>\n",
       "      <th>Age</th>\n",
       "      <th>Gender</th>\n",
       "      <th>Country</th>\n",
       "      <th>JobRole</th>\n",
       "      <th>Department</th>\n",
       "      <th>YearsAtCompany</th>\n",
       "      <th>WorkHoursPerWeek</th>\n",
       "      <th>RemoteWork</th>\n",
       "      <th>BurnoutLevel</th>\n",
       "      <th>...</th>\n",
       "      <th>CommuteTime</th>\n",
       "      <th>HasMentalHealthSupport</th>\n",
       "      <th>ManagerSupportScore</th>\n",
       "      <th>HasTherapyAccess</th>\n",
       "      <th>MentalHealthDaysOff</th>\n",
       "      <th>SalaryRange</th>\n",
       "      <th>WorkLifeBalanceScore</th>\n",
       "      <th>TeamSize</th>\n",
       "      <th>CareerGrowthScore</th>\n",
       "      <th>BurnoutRisk</th>\n",
       "    </tr>\n",
       "  </thead>\n",
       "  <tbody>\n",
       "    <tr>\n",
       "      <th>2995</th>\n",
       "      <td>3996</td>\n",
       "      <td>28</td>\n",
       "      <td>Female</td>\n",
       "      <td>Brazil</td>\n",
       "      <td>Marketing Manager</td>\n",
       "      <td>Sales</td>\n",
       "      <td>18</td>\n",
       "      <td>46</td>\n",
       "      <td>No</td>\n",
       "      <td>2.86</td>\n",
       "      <td>...</td>\n",
       "      <td>4</td>\n",
       "      <td>Yes</td>\n",
       "      <td>6.97</td>\n",
       "      <td>No</td>\n",
       "      <td>1</td>\n",
       "      <td>80K-100K</td>\n",
       "      <td>7.71</td>\n",
       "      <td>21</td>\n",
       "      <td>7.70</td>\n",
       "      <td>0</td>\n",
       "    </tr>\n",
       "    <tr>\n",
       "      <th>2996</th>\n",
       "      <td>3997</td>\n",
       "      <td>24</td>\n",
       "      <td>Male</td>\n",
       "      <td>Brazil</td>\n",
       "      <td>Customer Support</td>\n",
       "      <td>Marketing</td>\n",
       "      <td>14</td>\n",
       "      <td>31</td>\n",
       "      <td>No</td>\n",
       "      <td>2.43</td>\n",
       "      <td>...</td>\n",
       "      <td>1</td>\n",
       "      <td>Yes</td>\n",
       "      <td>5.58</td>\n",
       "      <td>Yes</td>\n",
       "      <td>0</td>\n",
       "      <td>60K-80K</td>\n",
       "      <td>3.76</td>\n",
       "      <td>2</td>\n",
       "      <td>2.59</td>\n",
       "      <td>0</td>\n",
       "    </tr>\n",
       "    <tr>\n",
       "      <th>2997</th>\n",
       "      <td>3998</td>\n",
       "      <td>22</td>\n",
       "      <td>Female</td>\n",
       "      <td>Canada</td>\n",
       "      <td>Marketing Manager</td>\n",
       "      <td>Marketing</td>\n",
       "      <td>0</td>\n",
       "      <td>38</td>\n",
       "      <td>No</td>\n",
       "      <td>6.87</td>\n",
       "      <td>...</td>\n",
       "      <td>25</td>\n",
       "      <td>No</td>\n",
       "      <td>3.81</td>\n",
       "      <td>No</td>\n",
       "      <td>0</td>\n",
       "      <td>40K-60K</td>\n",
       "      <td>3.03</td>\n",
       "      <td>2</td>\n",
       "      <td>6.95</td>\n",
       "      <td>0</td>\n",
       "    </tr>\n",
       "    <tr>\n",
       "      <th>2998</th>\n",
       "      <td>3999</td>\n",
       "      <td>57</td>\n",
       "      <td>Non-binary</td>\n",
       "      <td>Australia</td>\n",
       "      <td>Data Scientist</td>\n",
       "      <td>HR</td>\n",
       "      <td>2</td>\n",
       "      <td>41</td>\n",
       "      <td>No</td>\n",
       "      <td>3.62</td>\n",
       "      <td>...</td>\n",
       "      <td>24</td>\n",
       "      <td>No</td>\n",
       "      <td>9.72</td>\n",
       "      <td>No</td>\n",
       "      <td>3</td>\n",
       "      <td>100K+</td>\n",
       "      <td>6.02</td>\n",
       "      <td>37</td>\n",
       "      <td>9.06</td>\n",
       "      <td>0</td>\n",
       "    </tr>\n",
       "    <tr>\n",
       "      <th>2999</th>\n",
       "      <td>4000</td>\n",
       "      <td>46</td>\n",
       "      <td>Non-binary</td>\n",
       "      <td>India</td>\n",
       "      <td>Software Engineer</td>\n",
       "      <td>IT</td>\n",
       "      <td>17</td>\n",
       "      <td>48</td>\n",
       "      <td>No</td>\n",
       "      <td>9.77</td>\n",
       "      <td>...</td>\n",
       "      <td>49</td>\n",
       "      <td>No</td>\n",
       "      <td>8.21</td>\n",
       "      <td>No</td>\n",
       "      <td>7</td>\n",
       "      <td>60K-80K</td>\n",
       "      <td>7.89</td>\n",
       "      <td>37</td>\n",
       "      <td>1.09</td>\n",
       "      <td>1</td>\n",
       "    </tr>\n",
       "  </tbody>\n",
       "</table>\n",
       "<p>5 rows × 25 columns</p>\n",
       "</div>"
      ],
      "text/plain": [
       "      EmployeeID  Age      Gender    Country            JobRole Department  \\\n",
       "2995        3996   28      Female     Brazil  Marketing Manager      Sales   \n",
       "2996        3997   24        Male     Brazil   Customer Support  Marketing   \n",
       "2997        3998   22      Female     Canada  Marketing Manager  Marketing   \n",
       "2998        3999   57  Non-binary  Australia     Data Scientist         HR   \n",
       "2999        4000   46  Non-binary      India  Software Engineer         IT   \n",
       "\n",
       "      YearsAtCompany  WorkHoursPerWeek RemoteWork  BurnoutLevel  ...  \\\n",
       "2995              18                46         No          2.86  ...   \n",
       "2996              14                31         No          2.43  ...   \n",
       "2997               0                38         No          6.87  ...   \n",
       "2998               2                41         No          3.62  ...   \n",
       "2999              17                48         No          9.77  ...   \n",
       "\n",
       "      CommuteTime  HasMentalHealthSupport  ManagerSupportScore  \\\n",
       "2995            4                     Yes                 6.97   \n",
       "2996            1                     Yes                 5.58   \n",
       "2997           25                      No                 3.81   \n",
       "2998           24                      No                 9.72   \n",
       "2999           49                      No                 8.21   \n",
       "\n",
       "      HasTherapyAccess  MentalHealthDaysOff  SalaryRange WorkLifeBalanceScore  \\\n",
       "2995                No                    1     80K-100K                 7.71   \n",
       "2996               Yes                    0      60K-80K                 3.76   \n",
       "2997                No                    0      40K-60K                 3.03   \n",
       "2998                No                    3        100K+                 6.02   \n",
       "2999                No                    7      60K-80K                 7.89   \n",
       "\n",
       "      TeamSize CareerGrowthScore  BurnoutRisk  \n",
       "2995        21              7.70            0  \n",
       "2996         2              2.59            0  \n",
       "2997         2              6.95            0  \n",
       "2998        37              9.06            0  \n",
       "2999        37              1.09            1  \n",
       "\n",
       "[5 rows x 25 columns]"
      ]
     },
     "execution_count": 4,
     "metadata": {},
     "output_type": "execute_result"
    }
   ],
   "source": [
    "df.tail()"
   ]
  },
  {
   "cell_type": "code",
   "execution_count": 5,
   "id": "8a2f764f-cce4-4ce6-bb23-da6b66ed28db",
   "metadata": {},
   "outputs": [
    {
     "name": "stdout",
     "output_type": "stream",
     "text": [
      "<class 'pandas.core.frame.DataFrame'>\n",
      "RangeIndex: 3000 entries, 0 to 2999\n",
      "Data columns (total 25 columns):\n",
      " #   Column                  Non-Null Count  Dtype  \n",
      "---  ------                  --------------  -----  \n",
      " 0   EmployeeID              3000 non-null   int64  \n",
      " 1   Age                     3000 non-null   int64  \n",
      " 2   Gender                  3000 non-null   object \n",
      " 3   Country                 3000 non-null   object \n",
      " 4   JobRole                 3000 non-null   object \n",
      " 5   Department              3000 non-null   object \n",
      " 6   YearsAtCompany          3000 non-null   int64  \n",
      " 7   WorkHoursPerWeek        3000 non-null   int64  \n",
      " 8   RemoteWork              3000 non-null   object \n",
      " 9   BurnoutLevel            3000 non-null   float64\n",
      " 10  JobSatisfaction         3000 non-null   float64\n",
      " 11  StressLevel             3000 non-null   float64\n",
      " 12  ProductivityScore       3000 non-null   float64\n",
      " 13  SleepHours              3000 non-null   float64\n",
      " 14  PhysicalActivityHrs     3000 non-null   float64\n",
      " 15  CommuteTime             3000 non-null   int64  \n",
      " 16  HasMentalHealthSupport  3000 non-null   object \n",
      " 17  ManagerSupportScore     3000 non-null   float64\n",
      " 18  HasTherapyAccess        3000 non-null   object \n",
      " 19  MentalHealthDaysOff     3000 non-null   int64  \n",
      " 20  SalaryRange             3000 non-null   object \n",
      " 21  WorkLifeBalanceScore    3000 non-null   float64\n",
      " 22  TeamSize                3000 non-null   int64  \n",
      " 23  CareerGrowthScore       3000 non-null   float64\n",
      " 24  BurnoutRisk             3000 non-null   int64  \n",
      "dtypes: float64(9), int64(8), object(8)\n",
      "memory usage: 586.1+ KB\n"
     ]
    }
   ],
   "source": [
    "df.info()"
   ]
  },
  {
   "cell_type": "code",
   "execution_count": 6,
   "id": "63e57cf7-0077-41b1-b054-c6f90de75259",
   "metadata": {},
   "outputs": [
    {
     "data": {
      "text/plain": [
       "EmployeeID                0\n",
       "Age                       0\n",
       "Gender                    0\n",
       "Country                   0\n",
       "JobRole                   0\n",
       "Department                0\n",
       "YearsAtCompany            0\n",
       "WorkHoursPerWeek          0\n",
       "RemoteWork                0\n",
       "BurnoutLevel              0\n",
       "JobSatisfaction           0\n",
       "StressLevel               0\n",
       "ProductivityScore         0\n",
       "SleepHours                0\n",
       "PhysicalActivityHrs       0\n",
       "CommuteTime               0\n",
       "HasMentalHealthSupport    0\n",
       "ManagerSupportScore       0\n",
       "HasTherapyAccess          0\n",
       "MentalHealthDaysOff       0\n",
       "SalaryRange               0\n",
       "WorkLifeBalanceScore      0\n",
       "TeamSize                  0\n",
       "CareerGrowthScore         0\n",
       "BurnoutRisk               0\n",
       "dtype: int64"
      ]
     },
     "execution_count": 6,
     "metadata": {},
     "output_type": "execute_result"
    }
   ],
   "source": [
    "df.isnull().sum()"
   ]
  },
  {
   "cell_type": "code",
   "execution_count": 7,
   "id": "0e90baba-591c-4c09-8e5a-a90e881f6f6c",
   "metadata": {},
   "outputs": [
    {
     "data": {
      "text/plain": [
       "(3000, 25)"
      ]
     },
     "execution_count": 7,
     "metadata": {},
     "output_type": "execute_result"
    }
   ],
   "source": [
    "df.shape"
   ]
  },
  {
   "cell_type": "code",
   "execution_count": 8,
   "id": "9c0b4f62-5ca1-4049-b9da-abce3bb898fe",
   "metadata": {},
   "outputs": [],
   "source": [
    "num_cols = df.select_dtypes(include='number').columns  \n",
    "for col in num_cols:\n",
    "    median_val = df[col].median()\n",
    "    df[col] = df[col].fillna(median_val)\n",
    "    cat_cols = df.select_dtypes(include='object').columns   \n",
    "for col in cat_cols:\n",
    "    mode_val = df[col].mode()[0]\n",
    "    df[col] = df[col].fillna(mode_val)"
   ]
  },
  {
   "cell_type": "code",
   "execution_count": 12,
   "id": "368e8d44-8610-49d4-8ae2-85ae24086d4d",
   "metadata": {},
   "outputs": [
    {
     "data": {
      "text/plain": [
       "0       6.714286\n",
       "1       8.428571\n",
       "2       8.428571\n",
       "3       4.428571\n",
       "4       4.857143\n",
       "          ...   \n",
       "2995    6.571429\n",
       "2996    4.428571\n",
       "2997    5.428571\n",
       "2998    5.857143\n",
       "2999    6.857143\n",
       "Name: working HoursPerDay, Length: 3000, dtype: float64"
      ]
     },
     "execution_count": 12,
     "metadata": {},
     "output_type": "execute_result"
    }
   ],
   "source": [
    "df['working HoursPerDay'] = df['WorkHoursPerWeek'] / 7    #we are creating a new column-work HoursPerDay\n",
    "df['working HoursPerDay']\n"
   ]
  },
  {
   "cell_type": "code",
   "execution_count": 10,
   "id": "3c22bd4e-4dc4-4acd-9f54-6969e678809b",
   "metadata": {},
   "outputs": [
    {
     "data": {
      "text/plain": [
       "Worked\n",
       "False    2732\n",
       "True      268\n",
       "Name: count, dtype: int64"
      ]
     },
     "execution_count": 10,
     "metadata": {},
     "output_type": "execute_result"
    }
   ],
   "source": [
    "df['Worked'] = df['working HoursPerDay'] >8\n",
    "df['Worked'].value_counts()"
   ]
  },
  {
   "cell_type": "code",
   "execution_count": 13,
   "id": "a3237a35-0bf8-424f-a7d0-c47bf1958697",
   "metadata": {},
   "outputs": [
    {
     "data": {
      "text/plain": [
       "array(['Male', 'Non-binary', 'Prefer not to say', 'Female'], dtype=object)"
      ]
     },
     "execution_count": 13,
     "metadata": {},
     "output_type": "execute_result"
    }
   ],
   "source": [
    "df[\"Gender\"].unique()"
   ]
  },
  {
   "cell_type": "code",
   "execution_count": 14,
   "id": "6cbe792e-3a80-4e1a-afb5-6747422df366",
   "metadata": {},
   "outputs": [
    {
     "data": {
      "text/plain": [
       "array(['No', 'Hybrid', 'Yes'], dtype=object)"
      ]
     },
     "execution_count": 14,
     "metadata": {},
     "output_type": "execute_result"
    }
   ],
   "source": [
    "df[\"RemoteWork\"].unique()"
   ]
  },
  {
   "cell_type": "code",
   "execution_count": 15,
   "id": "8d9e06b3-861a-48d0-ba59-8ae10b771f84",
   "metadata": {},
   "outputs": [],
   "source": [
    "median_workhours = df['working HoursPerDay'].median()\n",
    "df['working HoursPerDay'] = df['working HoursPerDay'].apply(lambda x: median_workhours if x > 8 else x)"
   ]
  },
  {
   "cell_type": "code",
   "execution_count": 16,
   "id": "fdc1c2c6-b787-415c-9fd6-1a8bf809ba57",
   "metadata": {},
   "outputs": [
    {
     "data": {
      "text/plain": [
       "np.int64(0)"
      ]
     },
     "execution_count": 16,
     "metadata": {},
     "output_type": "execute_result"
    }
   ],
   "source": [
    "(df['working HoursPerDay'] > 8).sum()"
   ]
  },
  {
   "cell_type": "code",
   "execution_count": 19,
   "id": "b0d086a1-2eec-48a5-b9a6-6c97e4b44ade",
   "metadata": {},
   "outputs": [
    {
     "data": {
      "text/plain": [
       "<Axes: xlabel='Gender', ylabel='BurnoutLevel'>"
      ]
     },
     "execution_count": 19,
     "metadata": {},
     "output_type": "execute_result"
    },
    {
     "data": {
      "image/png": "[encoded data removed]",
      "text/plain": [
       "<Figure size 640x480 with 1 Axes>"
      ]
     },
     "metadata": {},
     "output_type": "display_data"
    }
   ],
   "source": [
    "sns.barplot(data=df, x=\"Gender\", y=\"BurnoutLevel\")"
   ]
  },
  {
   "cell_type": "code",
   "execution_count": 20,
   "id": "42ea8e2d-d206-4b8b-b53e-0e44f39401d5",
   "metadata": {},
   "outputs": [
    {
     "data": {
      "text/plain": [
       "<Axes: xlabel='WorkHoursPerWeek', ylabel='BurnoutLevel'>"
      ]
     },
     "execution_count": 20,
     "metadata": {},
     "output_type": "execute_result"
    },
    {
     "data": {
      "image/png": "[encoded data removed]",
      "text/plain": [
       "<Figure size 640x480 with 1 Axes>"
      ]
     },
     "metadata": {},
     "output_type": "display_data"
    }
   ],
   "source": [
    "sns.lineplot(data=df, x=\"WorkHoursPerWeek\", y=\"BurnoutLevel\")"
   ]
  },
  {
   "cell_type": "code",
   "execution_count": null,
   "id": "50525fd7-1952-44b0-8efc-616d91c06bef",
   "metadata": {},
   "outputs": [],
   "source": []
  }
 ],
 "metadata": {
  "kernelspec": {
   "display_name": "Python 3 (ipykernel)",
   "language": "python",
   "name": "python3"
  },
  "language_info": {
   "codemirror_mode": {
    "name": "ipython",
    "version": 3
   },
   "file_extension": ".py",
   "mimetype": "text/x-python",
   "name": "python",
   "nbconvert_exporter": "python",
   "pygments_lexer": "ipython3",
   "version": "3.13.5"
  }
 },
 "nbformat": 4,
 "nbformat_minor": 5
}
